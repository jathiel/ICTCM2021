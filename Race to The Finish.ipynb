{
 "cells": [
  {
   "cell_type": "markdown",
   "metadata": {
    "collapsed": false,
    "slideshow": {
     "slide_type": "slide"
    }
   },
   "source": [
    "# Race to the Finish\n",
    "\n",
    "In this game on Let's Make a Deal, contestants can win one of three prizes or lose by \"winning\" the zonk. Cards are drawn from a standard deck without replacement until one of four scenarios occurs:\n",
    "\n",
    "    1. 5 hearts are drawn before 4 spades, 3 diamonds, or 3 clubs are drawn.\n",
    "    2. 4 spades are drawn before 5 hearts, 3 diamonds, or 3 clubs are drawn.\n",
    "    3. 3 diamonds are drawn before 5 hearts, 4 spades, or 3 clubs are drawn.\n",
    "    4. 3 clubs are drawn before 5 hearts, 4 spades, or 3 diamonds are drawn.\n",
    "\n",
    "Scenarios 1, 2, and 3 correspond to winning prizes (in decreasing value), while scenario 4 corresponds to losing the game by earning the zonk.\n",
    "\n",
    "What is the probability of winning a prize? What is the probability of each outcome?"
   ]
  },
  {
   "cell_type": "markdown",
   "metadata": {
    "collapsed": false,
    "slideshow": {
     "slide_type": "slide"
    }
   },
   "source": [
    "## Simulations in Python"
   ]
  },
  {
   "cell_type": "markdown",
   "metadata": {
    "collapsed": false,
    "slideshow": {
     "slide_type": "fragment"
    }
   },
   "source": [
    "First we import the numpy Python library to help with our simulations."
   ]
  },
  {
   "cell_type": "code",
   "execution_count": 1,
   "metadata": {
    "collapsed": false,
    "slideshow": {
     "slide_type": "fragment"
    }
   },
   "outputs": [
   ],
   "source": [
    "import numpy as np"
   ]
  },
  {
   "cell_type": "markdown",
   "metadata": {
    "collapsed": false,
    "slideshow": {
     "slide_type": "slide"
    }
   },
   "source": [
    "Now we create a standard deck of cards cards."
   ]
  },
  {
   "cell_type": "code",
   "execution_count": 2,
   "metadata": {
    "collapsed": false,
    "slideshow": {
     "slide_type": "fragment"
    }
   },
   "outputs": [
   ],
   "source": [
    "values = ['2','3','4','5','6','7','8','9','10','J','Q','K','A']\n",
    "suits = ['H','S','D','C']\n",
    "cards = np.array([(v,s) for s in suits for v in values])"
   ]
  },
  {
   "cell_type": "markdown",
   "metadata": {
    "collapsed": false,
    "slideshow": {
     "slide_type": "fragment"
    }
   },
   "source": [
    "The following variables will keep track of the number of outcomes in each scenario."
   ]
  },
  {
   "cell_type": "code",
   "execution_count": 3,
   "metadata": {
    "collapsed": false,
    "slideshow": {
     "slide_type": "fragment"
    }
   },
   "outputs": [
   ],
   "source": [
    "win_heart = 0\n",
    "win_spade = 0\n",
    "win_diamond = 0\n",
    "lose = 0"
   ]
  },
  {
   "cell_type": "markdown",
   "metadata": {
    "collapsed": false,
    "slideshow": {
     "slide_type": "slide"
    }
   },
   "source": [
    "We are now ready for the main loop. We will conduct 10,000 trials of shuffling a deck and picking cards from the top in order until one of the 4 scenarios occurs. When a win or loss is detected, we stop drawing cards, reset our counters and loop through another game."
   ]
  },
  {
   "cell_type": "code",
   "execution_count": 4,
   "metadata": {
    "collapsed": false,
    "slideshow": {
     "slide_type": "fragment"
    }
   },
   "outputs": [
   ],
   "source": [
    "for n in range(10000):\n",
    "    heart_count = 0\n",
    "    spade_count = 0\n",
    "    diamond_count = 0\n",
    "    club_count = 0\n",
    "    np.random.shuffle(cards)\n",
    "    for card in cards:\n",
    "        if card[1] == 'H':\n",
    "            heart_count += 1\n",
    "            if heart_count >= 5:\n",
    "                win_heart += 1\n",
    "                break\n",
    "        elif card[1] == 'S':\n",
    "            spade_count += 1\n",
    "            if spade_count >= 4:\n",
    "                win_spade += 1\n",
    "                break\n",
    "        elif card[1] == 'D':\n",
    "            diamond_count += 1\n",
    "            if diamond_count >= 3:\n",
    "                win_diamond += 1\n",
    "                break\n",
    "        else:\n",
    "            club_count += 1\n",
    "            if club_count >= 3:\n",
    "                lose += 1\n",
    "                break"
   ]
  },
  {
   "cell_type": "markdown",
   "metadata": {
    "collapsed": false,
    "slideshow": {
     "slide_type": "slide"
    }
   },
   "source": [
    "Lastly, we print out our results."
   ]
  },
  {
   "cell_type": "code",
   "execution_count": 5,
   "metadata": {
    "collapsed": false,
    "slideshow": {
     "slide_type": "fragment"
    }
   },
   "outputs": [
    {
     "name": "stdout",
     "output_type": "stream",
     "text": [
      "0.0549 0.1642 0.3814 0.3995\n"
     ]
    }
   ],
   "source": [
    "print(win_heart/10000,\n",
    "      win_spade/10000,\n",
    "      win_diamond/10000,\n",
    "      lose/10000)"
   ]
  },
  {
   "cell_type": "markdown",
   "metadata": {
    "collapsed": false,
    "slideshow": {
     "slide_type": "fragment"
    }
   },
   "source": [
    "Our simulation suggests that we win the big prize about 5.8% of the time, the medium prize about 15.7% of the time, the small prize about 39.3% of the time, and we lose about 39.1% of the time. This is just a simulation, since scenarios 3 and 4 are identical, we should expect that those probabilities are equal. This also supports the idea that the odds of winning *any* prize are better than 50%. In fact, our computations suggest that the odds of winning at all about about 61%."
   ]
  },
  {
   "cell_type": "markdown",
   "metadata": {
    "collapsed": false,
    "slideshow": {
     "slide_type": "slide"
    }
   },
   "source": [
    "## Computing Probabilities"
   ]
  },
  {
   "cell_type": "markdown",
   "metadata": {
    "collapsed": false,
    "slideshow": {
     "slide_type": "fragment"
    }
   },
   "source": [
    "Here we compute the probability of winning the zonk in the Race to the Finish game. That is, we establish a formula for the losing probability that we then estimate with the use of a computer.\n",
    "\n",
    "To lose Race to the Finish, we must draw 3 clubs before drawing 5 hearts, 4 spades, or 3 diamonds. If $H$, $S$, and $D$ are the number of hearts, spades, and diamonds drawn before drawing the 3rd club, then the number of such possible arrangements of a deck of cards is given by $$\\binom{13}{H}\\binom{13}{S}\\binom{13}{D}\\binom{13}{2}(H+S+D+2)!\\binom{11}{1}(52-(H+S+D+3))!.$$ Since this can happen for $0\\leq H< 5$, $0\\leq S< 4$, and $0\\leq D< 3$, then the probability of losing is given by $$\\sum_{0\\leq H< 5}\\sum_{0\\leq S< 4}\\sum_{0\\leq D< 3}\\frac{\\binom{13}{H}\\binom{13}{S}\\binom{13}{D}\\binom{13}{2}(H+S+D+2)!\\binom{11}{1}(52-(H+S+D+3))!}{52!}.$$"
   ]
  },
  {
   "cell_type": "markdown",
   "metadata": {
    "collapsed": false,
    "slideshow": {
     "slide_type": "slide"
    }
   },
   "source": [
    "We can simplify this to $$858\\sum_{0\\leq H< 5}\\sum_{0\\leq S< 4}\\sum_{0\\leq D< 3}\\frac{\\binom{13}{H}\\binom{13}{S}\\binom{13}{D}\\binom{52}{H+S+D+3}^{-1}}{H+S+D+3}$$ and compute this value below."
   ]
  },
  {
   "cell_type": "markdown",
   "metadata": {
    "collapsed": false,
    "slideshow": {
     "slide_type": "fragment"
    }
   },
   "source": [
    "We first need to import a special function to compute binomial coefficients."
   ]
  },
  {
   "cell_type": "code",
   "execution_count": 6,
   "metadata": {
    "collapsed": false,
    "slideshow": {
     "slide_type": "fragment"
    }
   },
   "outputs": [
   ],
   "source": [
    "from scipy.special import binom"
   ]
  },
  {
   "cell_type": "code",
   "execution_count": 7,
   "metadata": {
    "collapsed": false,
    "slideshow": {
     "slide_type": "fragment"
    }
   },
   "outputs": [
    {
     "data": {
      "text/plain": [
       "0.3920704501283851"
      ]
     },
     "execution_count": 7,
     "metadata": {
     },
     "output_type": "execute_result"
    }
   ],
   "source": [
    "s = 0\n",
    "for H in range(5):\n",
    "    for S in range(4):\n",
    "        for D in range(3):\n",
    "            s += binom(13,H)*binom(13,S)*binom(13,D)/(binom(52,H+S+D+3)*(H+S+D+3))\n",
    "11*binom(13,2)*s"
   ]
  },
  {
   "cell_type": "markdown",
   "metadata": {
    "collapsed": false,
    "slideshow": {
     "slide_type": "fragment"
    }
   },
   "source": [
    "As we can see, the computed probability is very close to the result obtained via simulations. With a few modifications, we can compute the probabilities for the other scenarios."
   ]
  }
 ],
 "metadata": {
  "kernelspec": {
   "display_name": "Python 3 (system-wide)",
   "language": "python",
   "metadata": {
    "cocalc": {
     "description": "Python 3 programming language",
     "priority": 100,
     "url": "https://www.python.org/"
    }
   },
   "name": "python3",
   "resource_dir": "/ext/jupyter/kernels/python3"
  },
  "language_info": {
   "codemirror_mode": {
    "name": "ipython",
    "version": 3
   },
   "file_extension": ".py",
   "mimetype": "text/x-python",
   "name": "python",
   "nbconvert_exporter": "python",
   "pygments_lexer": "ipython3",
   "version": "3.8.5"
  }
 },
 "nbformat": 4,
 "nbformat_minor": 4
}