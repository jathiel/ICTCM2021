{
 "cells": [
  {
   "cell_type": "markdown",
   "metadata": {
    "collapsed": false
   },
   "source": [
    "# Race to the Finish\n",
    "\n",
    "In this game on Let's Make a Deal, contestants can win one of three prizes or lose by \"winning\" the zonk. Cards are drawn from a standard deck without replacement until one of four scenarios occurs:\n",
    "\n",
    "1. 5 hearts are drawn before 4 spades, 3 diamonds, or 3 clubs are drawn.\n",
    "2. 4 spades are drawn before 5 hearts, 3 diamonds, or 3 clubs are drawn.\n",
    "3. 3 diamonds are drawn before 5 hearts, 4 spades, or 3 clubs are drawn.\n",
    "4. 3 clubs are drawn before 5 hearts, 4 spades, or 3 diamonds are drawn.\n",
    "\n",
    "Scenarios 1, 2, and 3 correspond to winning prizes (in decreasing value), while scenario 4 corresponds to losing the game by earning the zonk.\n",
    "\n",
    "What is the probability of winning a prize? What is the probability of each outcome?\n",
    "\n",
    "Computing this probability is not easy. Let's simulate a playthrough 10,000 times and see what happens."
   ]
  },
  {
   "cell_type": "markdown",
   "metadata": {
    "collapsed": false
   },
   "source": [
    "First we import the numpy Python library to help with our simulations."
   ]
  },
  {
   "cell_type": "code",
   "execution_count": 1,
   "metadata": {
    "collapsed": false
   },
   "outputs": [
   ],
   "source": [
    "import numpy as np"
   ]
  },
  {
   "cell_type": "markdown",
   "metadata": {
    "collapsed": false
   },
   "source": [
    "Now we create a standard deck of cards cards."
   ]
  },
  {
   "cell_type": "code",
   "execution_count": 2,
   "metadata": {
    "collapsed": false
   },
   "outputs": [
   ],
   "source": [
    "values = ['2','3','4','5','6','7','8','9','10','J','Q','K','A']\n",
    "suits = ['H','S','D','C']\n",
    "cards = np.array([(v,s) for s in suits for v in values])"
   ]
  },
  {
   "cell_type": "markdown",
   "metadata": {
    "collapsed": false
   },
   "source": [
    "The following variables will keep track of the number of outcomes in each scenario."
   ]
  },
  {
   "cell_type": "code",
   "execution_count": 3,
   "metadata": {
    "collapsed": false
   },
   "outputs": [
   ],
   "source": [
    "win_heart = 0\n",
    "win_spade = 0\n",
    "win_diamond = 0\n",
    "lose = 0"
   ]
  },
  {
   "cell_type": "markdown",
   "metadata": {
    "collapsed": false
   },
   "source": [
    "We are now ready for the main loop. We will conduct 10,000 trials of shuffling a deck and picking cards from the top in order until one of the 4 scenarios occurs. When a win or loss is detected, we stop drawing cards, reset our counters and loop through another game."
   ]
  },
  {
   "cell_type": "code",
   "execution_count": 4,
   "metadata": {
    "collapsed": false
   },
   "outputs": [
   ],
   "source": [
    "for n in range(10000):\n",
    "    heart_count = 0\n",
    "    spade_count = 0\n",
    "    diamond_count = 0\n",
    "    club_count = 0\n",
    "    np.random.shuffle(cards)\n",
    "    for card in cards:\n",
    "        if card[1] == 'H':\n",
    "            heart_count += 1\n",
    "            if heart_count >= 5:\n",
    "                win_heart += 1\n",
    "                break\n",
    "        elif card[1] == 'S':\n",
    "            spade_count += 1\n",
    "            if spade_count >= 4:\n",
    "                win_spade += 1\n",
    "                break\n",
    "        elif card[1] == 'D':\n",
    "            diamond_count += 1\n",
    "            if diamond_count >= 3:\n",
    "                win_diamond += 1\n",
    "                break\n",
    "        else:\n",
    "            club_count += 1\n",
    "            if club_count >= 3:\n",
    "                lose += 1\n",
    "                break"
   ]
  },
  {
   "cell_type": "markdown",
   "metadata": {
    "collapsed": false
   },
   "source": [
    "Lastly, we print out our results."
   ]
  },
  {
   "cell_type": "code",
   "execution_count": 5,
   "metadata": {
    "collapsed": false
   },
   "outputs": [
    {
     "name": "stdout",
     "output_type": "stream",
     "text": [
      "0.0617 0.1553 0.3894 0.3936\n"
     ]
    }
   ],
   "source": [
    "print(win_heart/10000,\n",
    "      win_spade/10000,\n",
    "      win_diamond/10000,\n",
    "      lose/10000)"
   ]
  },
  {
   "cell_type": "markdown",
   "metadata": {
    "collapsed": false
   },
   "source": [
    "Our simulation suggests that we win the big prize about 5.8% of the time, the medium prize about 15.7% of the time, the small prize about 39.3% of the time, and we lose about 39.1% of the time. This is just a simulation, since scenarios 3 and 4 are identical, we should expect that those probabilities are equal. This also supports the idea that the odds of winning <i>any</i> prize are better than 50%. In fact, our computations suggest that the odds of winning at all about about 61%."
   ]
  },
  {
   "cell_type": "code",
   "execution_count": 5,
   "metadata": {
    "collapsed": false
   },
   "outputs": [
    {
     "data": {
      "text/plain": [
       "[2, 3, 4]"
      ]
     },
     "execution_count": 5,
     "metadata": {
     },
     "output_type": "execute_result"
    }
   ],
   "source": [
    "m = [4,3,2]\n",
    "m.sort()\n",
    "m"
   ]
  },
  {
   "cell_type": "code",
   "execution_count": 0,
   "metadata": {
    "collapsed": false
   },
   "outputs": [
   ],
   "source": [
   ]
  }
 ],
 "metadata": {
  "kernelspec": {
   "display_name": "Python 3 (system-wide)",
   "language": "python",
   "metadata": {
    "cocalc": {
     "description": "Python 3 programming language",
     "priority": 100,
     "url": "https://www.python.org/"
    }
   },
   "name": "python3"
  },
  "language_info": {
   "codemirror_mode": {
    "name": "ipython",
    "version": 3
   },
   "file_extension": ".py",
   "mimetype": "text/x-python",
   "name": "python",
   "nbconvert_exporter": "python",
   "pygments_lexer": "ipython3",
   "version": "3.6.9"
  }
 },
 "nbformat": 4,
 "nbformat_minor": 4
}